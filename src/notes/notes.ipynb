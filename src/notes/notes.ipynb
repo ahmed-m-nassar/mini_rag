{
 "cells": [
  {
   "cell_type": "markdown",
   "metadata": {},
   "source": [
    "### Project structure \n",
    "\n",
    "**controllers/**\n",
    "Purpose: Implements the Controller part of the MVC architecture. These files handle user input and manage interactions between the Model and View.\n",
    "\n",
    "**models**\n",
    "Purpose: Implements the Model part of the MVC architecture. These files define the data structure and interact with the database or other data sources.\n",
    "\n",
    "**helpers/**\n",
    "Purpose: Contains utility functions or classes that assist other components in the project.\n",
    "\n",
    "**enums/**\n",
    "Defines enumerations (constants) for managing states or types.\n",
    "\n",
    "**routes/**\n",
    "Purpose: Defines the View part of the application, routing user requests to the appropriate controllers and returning responses.\n",
    "\n",
    "**schemes/**\n",
    "Contains schemas for validating and serializing API request/response data.\n",
    "\n",
    "\n",
    "``` json\n",
    "Project Root/\n",
    "├── docker/\n",
    "│   ├── .gitignore\n",
    "│   └── docker-compose.yml\n",
    "├── src/\n",
    "│   ├── assets/\n",
    "│   │   ├── .gitignore\n",
    "│   │   ├── .gitkeep\n",
    "│   │   └── mini-rag-app.postman_collection.json\n",
    "│   ├── controllers/\n",
    "│   │   ├── BaseController.py\n",
    "│   │   ├── DataController.py\n",
    "│   │   ├── ProcessController.py\n",
    "│   │   ├── ProjectController.py\n",
    "│   │   └── __init__.py\n",
    "│   ├── helpers/\n",
    "│   │   ├── __init__.py\n",
    "│   │   └── config.py\n",
    "│   ├── models/\n",
    "│   │   ├── db_schemes/\n",
    "│   │   │   ├── __init__.py\n",
    "│   │   │   ├── data_chunk.py\n",
    "│   │   │   └── project.py\n",
    "│   │   ├── enums/\n",
    "│   │   │   ├── DataBaseEnum.py\n",
    "│   │   │   ├── ProcessingEnum.py\n",
    "│   │   │   ├── ResponseEnums.py\n",
    "│   │   │   ├── __init__.py\n",
    "│   │   ├── BaseDataModel.py\n",
    "│   │   ├── ChunkModel.py\n",
    "│   │   ├── ProjectModel.py\n",
    "│   │   └── __init__.py\n",
    "│   ├── routes/\n",
    "│   │   ├── __init__.py\n",
    "│   │   ├── base.py\n",
    "│   │   ├── data.py\n",
    "│   │   ├── schemes/\n",
    "│   │   │   ├── __init__.py\n",
    "│   │   │   ├── base.py\n",
    "│   │   │   └── data.py\n",
    "│   ├── .env.example\n",
    "│   ├── .gitignore\n",
    "│   ├── main.py\n",
    "│   └── requirements.txt\n",
    "├── LICENSE\n",
    "└── README.md\n",
    "```"
   ]
  },
  {
   "cell_type": "markdown",
   "metadata": {},
   "source": []
  },
  {
   "cell_type": "markdown",
   "metadata": {},
   "source": []
  },
  {
   "cell_type": "markdown",
   "metadata": {},
   "source": [
    "### Conda \n"
   ]
  },
  {
   "cell_type": "code",
   "execution_count": null,
   "metadata": {},
   "outputs": [
    {
     "ename": "",
     "evalue": "",
     "output_type": "error",
     "traceback": [
      "\u001b[1;31mRunning cells with 'Python 3.10.12' requires the ipykernel package.\n",
      "\u001b[1;31mRun the following command to install 'ipykernel' into the Python environment. \n",
      "\u001b[1;31mCommand: '/bin/python3 -m pip install ipykernel -U --user --force-reinstall'"
     ]
    }
   ],
   "source": [
    "# Start Conda\n",
    "source ~/miniconda3/bin/activate \n",
    "\n",
    "# Create new environment\n",
    "conda create -n mini_rag python=3.8\n",
    "\n",
    "# Start environment\n",
    "conda activate mini_rag\n",
    "\n",
    "#view environments\n",
    "conda info --envs"
   ]
  },
  {
   "cell_type": "markdown",
   "metadata": {},
   "source": [
    "### .gitignore template"
   ]
  },
  {
   "cell_type": "code",
   "execution_count": null,
   "metadata": {},
   "outputs": [],
   "source": [
    "https://github.com/github/gitignore/blob/main/Python.gitignore"
   ]
  },
  {
   "cell_type": "markdown",
   "metadata": {},
   "source": [
    "### .env\n",
    "\n",
    "**Make sure to add it in .gitignore**\n",
    "\n",
    "**Create .env.example That has the same structure as .env**"
   ]
  },
  {
   "cell_type": "code",
   "execution_count": null,
   "metadata": {},
   "outputs": [],
   "source": [
    "# requirements\n",
    "python-dotenv\n",
    "\n",
    "# To load the variables in the system \n",
    "from dotenv import load_dotenv\n",
    "load_dotenv(\".env\")\n",
    "\n",
    "# to use the variables \n",
    "app_name = os.getenv('APP_NAME')"
   ]
  },
  {
   "cell_type": "markdown",
   "metadata": {},
   "source": [
    "### Fast API \n",
    "- Used to handle apis \n",
    "- Create a main file , its responsibility is to only include the routes\n",
    "- create a dir routes , and add the routes in it\n",
    "- create a prefix and a tag for the API router\n",
    "- Use JSON response  and status , in json response you can specify the status code and add some content \n",
    "- Use on event (on startup , shut down) to create the db connections and load env variables\n",
    "- Use request to load variables saved in the on event\n",
    "- depends  allows you to declare dependencies that will be executed before your route or function is processed, and their results are automatically passed to the function as arguments.\n",
    "\n",
    "Field"
   ]
  },
  {
   "cell_type": "code",
   "execution_count": null,
   "metadata": {},
   "outputs": [],
   "source": [
    "# Requirements\n",
    "fastapi\n",
    "uvicorn[standard]"
   ]
  },
  {
   "cell_type": "code",
   "execution_count": null,
   "metadata": {},
   "outputs": [],
   "source": [
    "# code example\n",
    "from fastapi import FastAPI\n",
    "\n",
    "# Create a FastAPI app instance\n",
    "app = FastAPI()\n",
    "\n",
    "# Define a simple route\n",
    "@app.get(\"/\")\n",
    "async def read_root():\n",
    "    return {\"message\": \"Hello, FastAPI!\"}\n",
    "\n",
    "# Add another route for greeting a user\n",
    "@app.get(\"/greet/{name}\")\n",
    "async def greet_user(name: str):\n",
    "    return {\"message\": f\"Hello, {name}! Welcome to FastAPI.\"}\n"
   ]
  },
  {
   "cell_type": "code",
   "execution_count": null,
   "metadata": {},
   "outputs": [],
   "source": [
    "# Check documentation\n",
    "http://127.0.0.1:8000/docs"
   ]
  },
  {
   "cell_type": "code",
   "execution_count": null,
   "metadata": {},
   "outputs": [],
   "source": [
    "# Best practice : \n",
    "# - Create a main file , its responsibility is to only include the routes\n",
    "# - Use on event  to create the db connections and load env variables\n",
    "\n",
    "from fastapi import FastAPI\n",
    "from routes import base, data\n",
    "from motor.motor_asyncio import AsyncIOMotorClient\n",
    "from helpers.config import get_settings\n",
    "\n",
    "app = FastAPI()\n",
    "\n",
    "@app.on_event(\"startup\")\n",
    "async def startup_db_client():\n",
    "    settings = get_settings()\n",
    "    app.mongo_conn = AsyncIOMotorClient(settings.MONGODB_URL)\n",
    "    app.db_client = app.mongo_conn[settings.MONGODB_DATABASE]\n",
    "\n",
    "@app.on_event(\"shutdown\")\n",
    "async def shutdown_db_client():\n",
    "    app.mongo_conn.close()\n",
    "\n",
    "\n",
    "app.include_router(base.base_router)\n",
    "app.include_router(data.data_router)\n"
   ]
  },
  {
   "cell_type": "code",
   "execution_count": null,
   "metadata": {},
   "outputs": [],
   "source": [
    "# - create a dir routes , and add the routes in it : \n",
    "# - create a prefix and a tag for the API router\n",
    "# - Use JSON response  and status \n",
    "\n",
    "from fastapi import FastAPI, APIRouter ,  status\n",
    "import os\n",
    "from fastapi.responses import JSONResponse\n",
    "\n",
    "base_router = APIRouter(\n",
    "    prefix=\"/api/v1\",\n",
    "    tags=[\"api_v1\"],\n",
    ")\n",
    "\n",
    "@base_router.get(\"/\")\n",
    "async def welcome():\n",
    "    app_name = os.getenv('APP_NAME')\n",
    "    app_version = os.getenv('APP_VERSION')\n",
    "\n",
    "    return JSONResponse(\n",
    "        status_code=status.HTTP_400_BAD_REQUEST,  \n",
    "        content={\n",
    "            \"signal\": ResponseSignal.FILE_UPLOAD_FAILED.value\n",
    "        }\n",
    "    )\n",
    "\n",
    "\n",
    "\n"
   ]
  },
  {
   "cell_type": "code",
   "execution_count": null,
   "metadata": {},
   "outputs": [],
   "source": [
    "# - Use Request to load variables saved in (ON events)\n",
    "# - use Depends to declare dependencies that will be executed before your route or function is processed\n",
    "\n",
    "from fastapi import FastAPI, APIRouter, Depends, UploadFile, status, Request\n",
    "from helpers.config import get_settings, Settings\n",
    "@data_router.post(\"/upload/{project_id}\")\n",
    "async def upload_data(request: Request, project_id: str, file: UploadFile,\n",
    "                    app_settings: Settings = Depends(get_settings)):\n",
    "    \n",
    "\n",
    "project_model = ProjectModel(\n",
    "    db_client=request.app.db_client\n",
    ")\n",
    "\n"
   ]
  },
  {
   "cell_type": "code",
   "execution_count": null,
   "metadata": {},
   "outputs": [],
   "source": []
  },
  {
   "cell_type": "markdown",
   "metadata": {},
   "source": [
    "### UVICORN"
   ]
  },
  {
   "cell_type": "code",
   "execution_count": null,
   "metadata": {},
   "outputs": [],
   "source": [
    "uvicorn filename:app --reload\n",
    "\n",
    "uvicorn app:app --host 0.0.0.0 --port 8080 --workers 4 --reload --log-level debug\n"
   ]
  },
  {
   "cell_type": "markdown",
   "metadata": {},
   "source": [
    "### Pydantic\n",
    "- We can use pydantic-settings to validate the environment variables , so if anyone forgot to add the .env or changed the types an error will occur\n",
    "- We can use pydantic to validate the api request parameters \n",
    "\n"
   ]
  },
  {
   "cell_type": "code",
   "execution_count": null,
   "metadata": {},
   "outputs": [],
   "source": [
    "# requirements\n",
    "pydantic-settings\n",
    "\n",
    "\n",
    "# Creation\n",
    "from pydantic_settings import BaseSettings, SettingsConfigDict\n",
    "\n",
    "class Settings(BaseSettings):\n",
    "\n",
    "    APP_NAME: str\n",
    "    APP_VERSION: str\n",
    "    OPENAI_API_KEY: str\n",
    "\n",
    "    FILE_ALLOWED_TYPES: list\n",
    "    FILE_MAX_SIZE: int\n",
    "    FILE_DEFAULT_CHUNK_SIZE: int\n",
    "\n",
    "    MONGODB_URL: str\n",
    "    MONGODB_DATABASE: str\n",
    "\n",
    "    class Config:\n",
    "        env_file = \".env\"\n",
    "\n",
    "def get_settings():\n",
    "    return Settings()\n",
    "\n",
    "\n",
    "# Usage \n",
    "app_settings = get_settings()"
   ]
  },
  {
   "cell_type": "code",
   "execution_count": null,
   "metadata": {},
   "outputs": [],
   "source": [
    "# requirements\n",
    "pydantic\n",
    "\n",
    "\n",
    "# Creation\n",
    "from pydantic import BaseModel\n",
    "from typing import Optional\n",
    "\n",
    "class ProcessRequest(BaseModel):\n",
    "    file_id: str\n",
    "    chunk_size: Optional[int] = 100\n",
    "    overlap_size: Optional[int] = 20\n",
    "    do_reset: Optional[int] = 0\n",
    "\n",
    "\n",
    "# Usage \n",
    "@data_router.post(\"/process/{project_id}\")\n",
    "async def process_endpoint(request: Request, project_id: str, process_request: ProcessRequest):\n",
    "\n",
    "    file_id = process_request.file_id\n",
    "    chunk_size = process_request.chunk_size\n",
    "    overlap_size = process_request.overlap_size\n",
    "    do_reset = process_request.do_reset\n"
   ]
  },
  {
   "cell_type": "markdown",
   "metadata": {},
   "source": [
    "### Controller\n",
    "- These files handle user input and manage interactions between the Model and View.\n",
    "- In controllers we create a base controller that has the functions that most of the other controllers would use \n"
   ]
  },
  {
   "cell_type": "code",
   "execution_count": null,
   "metadata": {},
   "outputs": [],
   "source": [
    "import os\n",
    "\n",
    "class BaseController:\n",
    "    \n",
    "    def __init__(self):\n",
    "\n",
    "        self.app_settings = get_settings()  # We loaded the env variables here\n",
    "        \n",
    "        self.base_dir = os.path.dirname( os.path.dirname(__file__) )"
   ]
  },
  {
   "cell_type": "code",
   "execution_count": null,
   "metadata": {},
   "outputs": [],
   "source": [
    "from .BaseController import BaseController\n",
    "import os\n",
    "\n",
    "class DataController(BaseController):\n",
    "    \n",
    "    def __init__(self):\n",
    "        super().__init__()"
   ]
  },
  {
   "cell_type": "markdown",
   "metadata": {},
   "source": [
    "### models \n",
    "- These files define the data structure and interact with the database or other data sources.\n",
    "- In models we create a base models that has the functions that most of the other models would use \n",
    "- In models we create enums that has constants that you will use in your system , like the error messages , db tables and others\n",
    "- In models we deal with databases , we need to create the schemas of the database so that we can validate and make sure we have a constant structure"
   ]
  },
  {
   "cell_type": "code",
   "execution_count": null,
   "metadata": {},
   "outputs": [],
   "source": [
    "from helpers.config import get_settings, Settings\n",
    "\n",
    "class BaseDataModel:\n",
    "\n",
    "    def __init__(self, db_client: object):\n",
    "        self.db_client = db_client\n",
    "        self.app_settings = get_settings()"
   ]
  },
  {
   "cell_type": "code",
   "execution_count": null,
   "metadata": {},
   "outputs": [],
   "source": [
    "from .BaseDataModel import BaseDataModel\n",
    "\n",
    "class ProjectModel(BaseDataModel):\n",
    "\n",
    "    def __init__(self, db_client: object):\n",
    "        super().__init__(db_client=db_client)\n"
   ]
  },
  {
   "cell_type": "code",
   "execution_count": null,
   "metadata": {},
   "outputs": [],
   "source": [
    "from enum import Enum\n",
    "\n",
    "# Creation\n",
    "class DataBaseEnum(Enum):\n",
    "\n",
    "    COLLECTION_PROJECT_NAME = \"projects\"\n",
    "    COLLECTION_CHUNK_NAME = \"chunks\"\n",
    "\n",
    "class ResponseSignal(Enum):\n",
    "\n",
    "    FILE_VALIDATED_SUCCESS = \"file_validate_successfully\"\n",
    "    FILE_TYPE_NOT_SUPPORTED = \"file_type_not_supported\"\n",
    "    FILE_SIZE_EXCEEDED = \"file_size_exceeded\"\n",
    "\n",
    "\n",
    "# Usage\n",
    "ResponseSignal.FILE_TYPE_NOT_SUPPORTED.value"
   ]
  },
  {
   "cell_type": "code",
   "execution_count": null,
   "metadata": {},
   "outputs": [],
   "source": [
    "from pydantic import BaseModel, Field, validator\n",
    "from typing import Optional\n",
    "from bson.objectid import ObjectId\n",
    "\n",
    "class DataChunk(BaseModel):\n",
    "    id: Optional[ObjectId] = Field(None, alias=\"_id\")  #Optional\n",
    "    chunk_text: str = Field(..., min_length=1)   # Mandatory\n",
    "    chunk_metadata: dict  # Mandatory\n",
    "    chunk_order: int = Field(..., gt=0)\n",
    "    chunk_project_id: ObjectId\n",
    "\n",
    "    class Config:\n",
    "        arbitrary_types_allowed = True\n",
    "\n",
    "        \n",
    "class Project(BaseModel):\n",
    "    id: Optional[ObjectId] = Field(None, alias=\"_id\")\n",
    "    project_id: str = Field(..., min_length=1)\n",
    "\n",
    "    @validator('project_id')\n",
    "    def validate_project_id(cls, value):\n",
    "        if not value.isalnum():\n",
    "            raise ValueError('project_id must be alphanumeric')\n",
    "        \n",
    "        return value\n",
    "\n",
    "    class Config:\n",
    "        arbitrary_types_allowed = True"
   ]
  },
  {
   "cell_type": "markdown",
   "metadata": {},
   "source": []
  },
  {
   "cell_type": "markdown",
   "metadata": {},
   "source": [
    "# Notes \n",
    "mvc  #\n",
    "controller  #\n",
    "base controller and how to call it in a child controller #\n",
    "\n",
    "models #\n",
    "enums & database enums #\n",
    "responseenums and usage #\n",
    "db schemas #\n",
    "\n",
    "helper\n",
    "pydantic settings , class and validation and usage  #\n",
    "pydantic validating request parameters #\n",
    "validator\n",
    "_id and how to handle it\n",
    "\n",
    "fast api json response & status code #\n",
    "fast api on event #\n",
    "fast api request  #\n",
    "depends #\n",
    "Field\n",
    "\n",
    "os and pathes\n",
    "\n",
    "Logging vs sending error to user\n",
    "\n",
    "Docker \n",
    "mongo db image \n",
    "3T studio\n",
    "motor asyncio\n",
    "paginate \n",
    "bulk (batch) write\n",
    "\n",
    "async\n"
   ]
  }
 ],
 "metadata": {
  "kernelspec": {
   "display_name": "Python 3",
   "language": "python",
   "name": "python3"
  },
  "language_info": {
   "name": "python",
   "version": "3.10.12"
  }
 },
 "nbformat": 4,
 "nbformat_minor": 2
}
